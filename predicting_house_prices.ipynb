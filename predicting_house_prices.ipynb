{
 "cells": [
  {
   "cell_type": "code",
   "execution_count": 62,
   "metadata": {},
   "outputs": [],
   "source": [
    "#Loading the Boston housing dataset\n",
    "#The targets are the median values of owner-occupied homes, in thousands of dollars\n",
    "from keras.datasets import boston_housing\n",
    "\n",
    "(train_data, train_targets), (test_data, test_targets) = boston_housing.load_data()"
   ]
  },
  {
   "cell_type": "code",
   "execution_count": 63,
   "metadata": {},
   "outputs": [
    {
     "name": "stdout",
     "output_type": "stream",
     "text": [
      "The shape of train_data is (404, 13).\n",
      "The shape of test_data is (102, 13).\n"
     ]
    }
   ],
   "source": [
    "#Printing the shape of train and test data\n",
    "print(\"The shape of train_data is\" + ' ' + str(train_data.shape) + '.')\n",
    "print(\"The shape of test_data is\" + ' ' + str(test_data.shape) + '.')"
   ]
  },
  {
   "cell_type": "code",
   "execution_count": 64,
   "metadata": {},
   "outputs": [],
   "source": [
    "#Preparing the data\n",
    "#Each column in the input data represents one of the 13 features, for example crime rate\n",
    "#We do feature-wise normalization, i.e. for each feature we subtract the mean of the feature and divide by\n",
    "#the standard deviation, s.t. the feature is centered around 0 and has a unit standard deviation\n",
    "\n",
    "mean = train_data.mean(axis=0)\n",
    "train_data -= mean\n",
    "std = train_data.std(axis=0)\n",
    "train_data /= std\n",
    "\n",
    "#Normalizing the test data, never use any quantity computed in the test data in the workflow\n",
    "test_data -= mean\n",
    "test_data /= std"
   ]
  },
  {
   "cell_type": "code",
   "execution_count": 70,
   "metadata": {},
   "outputs": [],
   "source": [
    "#Building the network\n",
    "#We have very few samples and thus use a very small network with two hidden layers, each with 64 units\n",
    "#In general: the less training data, the worse overfitting will be\n",
    "#A small network is one way to mitigate overfitting\n",
    "from tensorflow.keras import models\n",
    "from tensorflow.keras import layers\n",
    "\n",
    "def build_model(): #We need to instantiate the same model multiple times and thus define a function\n",
    "    model = models.Sequential()\n",
    "    model.add(layers.Dense(64, activation='relu', input_shape = (train_data.shape[1],)))\n",
    "    model.add(layers.Dense(64, activation='relu'))\n",
    "    model.add(layers.Dense(1)) #single unit and no activation, i.e. linear layer\n",
    "                               #typical setup for scalar regression\n",
    "    model.compile(optimizer='rmsprop', loss='mse', metrics=['mae']) #mse mean squared error widely used for regression \n",
    "                                                                    #problems\n",
    "                                                                    #mae mean absolute error is the absolute value\n",
    "                                                                    #of the difference between the predictions and \n",
    "                                                                    #targets\n",
    "    return model"
   ]
  },
  {
   "cell_type": "code",
   "execution_count": 71,
   "metadata": {},
   "outputs": [
    {
     "name": "stdout",
     "output_type": "stream",
     "text": [
      "processing fold # 0\n",
      "processing fold # 1\n",
      "processing fold # 2\n",
      "processing fold # 3\n"
     ]
    }
   ],
   "source": [
    "#K-fold validation\n",
    "#As the dataset is to small to split up into a training and validation set, we use K-fold cross-validation\n",
    "#Details can be found in DL with Python p.87\n",
    "import numpy as np\n",
    "\n",
    "k = 4\n",
    "num_val_samples = len(train_data) // k #a//b is a divided by b, rounded to the next smallest whole number\n",
    "num_epochs = 100\n",
    "all_scores = []\n",
    "\n",
    "for i in range(k):\n",
    "    print('processing fold #', i)\n",
    "    val_data = train_data[i * num_val_samples: (i+1) * num_val_samples] #validation data from partition #k\n",
    "    val_targets = train_targets[i * num_val_samples: (i+1) * num_val_samples]\n",
    "    \n",
    "    partial_train_data = np.concatenate([train_data[:i * num_val_samples], train_data[(i+1)*num_val_samples:]],\n",
    "                                        axis=0)                         #train data, data from all other partitions\n",
    "    partial_train_targets = np.concatenate([train_targets[:i * num_val_samples], \n",
    "                                            train_targets[(i+1)*num_val_samples:]],axis=0)\n",
    "    model  = build_model()\n",
    "    #training the model in silent mode, i.e. verbose=0\n",
    "    model.fit(partial_train_data, partial_train_targets, epochs = num_epochs, batch_size = 1, verbose = 0)\n",
    "    #evaluate the model on the validation data\n",
    "    val_mse, val_mae = model.evaluate(val_data, val_targets, verbose = 0)\n",
    "    all_scores.append(val_mae)"
   ]
  },
  {
   "cell_type": "code",
   "execution_count": 72,
   "metadata": {},
   "outputs": [
    {
     "data": {
      "text/plain": [
       "[2.4351282, 2.4362144, 2.6554637, 2.4722338]"
      ]
     },
     "execution_count": 72,
     "metadata": {},
     "output_type": "execute_result"
    }
   ],
   "source": [
    "all_scores"
   ]
  },
  {
   "cell_type": "code",
   "execution_count": 73,
   "metadata": {},
   "outputs": [
    {
     "data": {
      "text/plain": [
       "2.4997602"
      ]
     },
     "execution_count": 73,
     "metadata": {},
     "output_type": "execute_result"
    }
   ],
   "source": [
    "np.mean(all_scores)"
   ]
  },
  {
   "cell_type": "code",
   "execution_count": 75,
   "metadata": {},
   "outputs": [
    {
     "name": "stdout",
     "output_type": "stream",
     "text": [
      "processing fold # 0\n",
      "processing fold # 1\n",
      "processing fold # 2\n",
      "processing fold # 3\n"
     ]
    }
   ],
   "source": [
    "#Training with more epochs with saving the per epoch validation score log\n",
    "num_epochs = 500\n",
    "all_mae_histories = []\n",
    "\n",
    "for i in range(k):\n",
    "    print('processing fold #', i)\n",
    "    val_data = train_data[i * num_val_samples: (i+1) * num_val_samples] #validation data from partition #k\n",
    "    val_targets = train_targets[i * num_val_samples: (i+1) * num_val_samples]\n",
    "    \n",
    "    partial_train_data = np.concatenate([train_data[:i * num_val_samples], train_data[(i+1)*num_val_samples:]],\n",
    "                                        axis=0)                         #train data, data from all other partitions\n",
    "    partial_train_targets = np.concatenate([train_targets[:i * num_val_samples], \n",
    "                                            train_targets[(i+1)*num_val_samples:]],axis=0)\n",
    "    model = build_model()\n",
    "    history = model.fit(partial_train_data, partial_train_targets, validation_data=(val_data, val_targets), epochs = num_epochs, batch_size = 1, verbose = 0)\n",
    "    mae_history = history.history['val_mae']\n",
    "    all_mae_histories.append(mae_history)"
   ]
  },
  {
   "cell_type": "code",
   "execution_count": 76,
   "metadata": {},
   "outputs": [],
   "source": [
    "average_mae_history = [np.mean([x[i] for x in all_mae_histories]) for i in range(num_epochs)]"
   ]
  },
  {
   "cell_type": "code",
   "execution_count": 85,
   "metadata": {},
   "outputs": [
    {
     "data": {
      "image/png": "[encoded data removed]",
      "text/plain": [
       "<Figure size 432x288 with 1 Axes>"
      ]
     },
     "metadata": {
      "needs_background": "light"
     },
     "output_type": "display_data"
    }
   ],
   "source": [
    "#Plotting validation scores\n",
    "import matplotlib.pyplot as plt\n",
    "\n",
    "plt.plot(range(1, len(average_mae_history)+1), average_mae_history)\n",
    "plt.xlabel('Epochs')\n",
    "plt.ylabel('Validation MAE')\n",
    "plt.title('Validation MAE by epoch')\n",
    "plt.show()"
   ]
  },
  {
   "cell_type": "code",
   "execution_count": null,
   "metadata": {},
   "outputs": [],
   "source": []
  }
 ],
 "metadata": {
  "kernelspec": {
   "display_name": "Python 3",
   "language": "python",
   "name": "python3"
  },
  "language_info": {
   "codemirror_mode": {
    "name": "ipython",
    "version": 3
   },
   "file_extension": ".py",
   "mimetype": "text/x-python",
   "name": "python",
   "nbconvert_exporter": "python",
   "pygments_lexer": "ipython3",
   "version": "3.7.0"
  }
 },
 "nbformat": 4,
 "nbformat_minor": 2
}
